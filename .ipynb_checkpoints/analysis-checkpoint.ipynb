{
 "cells": [
  {
   "cell_type": "markdown",
   "metadata": {
    "slideshow": {
     "slide_type": "slide"
    }
   },
   "source": [
    "# Loading the requirement"
   ]
  },
  {
   "cell_type": "code",
   "execution_count": 1,
   "metadata": {
    "slideshow": {
     "slide_type": "subslide"
    }
   },
   "outputs": [
    {
     "name": "stdout",
     "output_type": "stream",
     "text": [
      "done\n"
     ]
    }
   ],
   "source": [
    "import numpy as np\n",
    "import pandas as pd\n",
    "import matplotlib.pyplot as plt\n",
    "from sklearn import linear_model\n",
    "from sklearn.linear_model import PoissonRegressor\n",
    "from sklearn.tree import DecisionTreeRegressor\n",
    "\n",
    "\n",
    "print(\"done\")"
   ]
  },
  {
   "cell_type": "code",
   "execution_count": 2,
   "metadata": {
    "slideshow": {
     "slide_type": "slide"
    }
   },
   "outputs": [
    {
     "data": {
      "text/html": [
       "<div>\n",
       "<style scoped>\n",
       "    .dataframe tbody tr th:only-of-type {\n",
       "        vertical-align: middle;\n",
       "    }\n",
       "\n",
       "    .dataframe tbody tr th {\n",
       "        vertical-align: top;\n",
       "    }\n",
       "\n",
       "    .dataframe thead th {\n",
       "        text-align: right;\n",
       "    }\n",
       "</style>\n",
       "<table border=\"1\" class=\"dataframe\">\n",
       "  <thead>\n",
       "    <tr style=\"text-align: right;\">\n",
       "      <th></th>\n",
       "      <th>Email</th>\n",
       "      <th>Address</th>\n",
       "      <th>Avatar</th>\n",
       "      <th>Avg. Session Length</th>\n",
       "      <th>Time on App</th>\n",
       "      <th>Time on Website</th>\n",
       "      <th>Length of Membership</th>\n",
       "      <th>Yearly Amount Spent</th>\n",
       "    </tr>\n",
       "  </thead>\n",
       "  <tbody>\n",
       "    <tr>\n",
       "      <th>0</th>\n",
       "      <td>mstephenson@fernandez.com</td>\n",
       "      <td>835 Frank Tunnel\\nWrightmouth, MI 82180-9605</td>\n",
       "      <td>Violet</td>\n",
       "      <td>34.497268</td>\n",
       "      <td>12.655651</td>\n",
       "      <td>39.577668</td>\n",
       "      <td>4.082621</td>\n",
       "      <td>587.951054</td>\n",
       "    </tr>\n",
       "    <tr>\n",
       "      <th>1</th>\n",
       "      <td>hduke@hotmail.com</td>\n",
       "      <td>4547 Archer Common\\nDiazchester, CA 06566-8576</td>\n",
       "      <td>DarkGreen</td>\n",
       "      <td>31.926272</td>\n",
       "      <td>11.109461</td>\n",
       "      <td>37.268959</td>\n",
       "      <td>2.664034</td>\n",
       "      <td>392.204933</td>\n",
       "    </tr>\n",
       "    <tr>\n",
       "      <th>2</th>\n",
       "      <td>pallen@yahoo.com</td>\n",
       "      <td>24645 Valerie Unions Suite 582\\nCobbborough, D...</td>\n",
       "      <td>Bisque</td>\n",
       "      <td>33.000915</td>\n",
       "      <td>11.330278</td>\n",
       "      <td>37.110597</td>\n",
       "      <td>4.104543</td>\n",
       "      <td>487.547505</td>\n",
       "    </tr>\n",
       "    <tr>\n",
       "      <th>3</th>\n",
       "      <td>riverarebecca@gmail.com</td>\n",
       "      <td>1414 David Throughway\\nPort Jason, OH 22070-1220</td>\n",
       "      <td>SaddleBrown</td>\n",
       "      <td>34.305557</td>\n",
       "      <td>13.717514</td>\n",
       "      <td>36.721283</td>\n",
       "      <td>3.120179</td>\n",
       "      <td>581.852344</td>\n",
       "    </tr>\n",
       "    <tr>\n",
       "      <th>4</th>\n",
       "      <td>mstephens@davidson-herman.com</td>\n",
       "      <td>14023 Rodriguez Passage\\nPort Jacobville, PR 3...</td>\n",
       "      <td>MediumAquaMarine</td>\n",
       "      <td>33.330673</td>\n",
       "      <td>12.795189</td>\n",
       "      <td>37.536653</td>\n",
       "      <td>4.446308</td>\n",
       "      <td>599.406092</td>\n",
       "    </tr>\n",
       "    <tr>\n",
       "      <th>...</th>\n",
       "      <td>...</td>\n",
       "      <td>...</td>\n",
       "      <td>...</td>\n",
       "      <td>...</td>\n",
       "      <td>...</td>\n",
       "      <td>...</td>\n",
       "      <td>...</td>\n",
       "      <td>...</td>\n",
       "    </tr>\n",
       "    <tr>\n",
       "      <th>495</th>\n",
       "      <td>lewisjessica@craig-evans.com</td>\n",
       "      <td>4483 Jones Motorway Suite 872\\nLake Jamiefurt,...</td>\n",
       "      <td>Tan</td>\n",
       "      <td>33.237660</td>\n",
       "      <td>13.566160</td>\n",
       "      <td>36.417985</td>\n",
       "      <td>3.746573</td>\n",
       "      <td>573.847438</td>\n",
       "    </tr>\n",
       "    <tr>\n",
       "      <th>496</th>\n",
       "      <td>katrina56@gmail.com</td>\n",
       "      <td>172 Owen Divide Suite 497\\nWest Richard, CA 19320</td>\n",
       "      <td>PaleVioletRed</td>\n",
       "      <td>34.702529</td>\n",
       "      <td>11.695736</td>\n",
       "      <td>37.190268</td>\n",
       "      <td>3.576526</td>\n",
       "      <td>529.049004</td>\n",
       "    </tr>\n",
       "    <tr>\n",
       "      <th>497</th>\n",
       "      <td>dale88@hotmail.com</td>\n",
       "      <td>0787 Andrews Ranch Apt. 633\\nSouth Chadburgh, ...</td>\n",
       "      <td>Cornsilk</td>\n",
       "      <td>32.646777</td>\n",
       "      <td>11.499409</td>\n",
       "      <td>38.332576</td>\n",
       "      <td>4.958264</td>\n",
       "      <td>551.620146</td>\n",
       "    </tr>\n",
       "    <tr>\n",
       "      <th>498</th>\n",
       "      <td>cwilson@hotmail.com</td>\n",
       "      <td>680 Jennifer Lodge Apt. 808\\nBrendachester, TX...</td>\n",
       "      <td>Teal</td>\n",
       "      <td>33.322501</td>\n",
       "      <td>12.391423</td>\n",
       "      <td>36.840086</td>\n",
       "      <td>2.336485</td>\n",
       "      <td>456.469510</td>\n",
       "    </tr>\n",
       "    <tr>\n",
       "      <th>499</th>\n",
       "      <td>hannahwilson@davidson.com</td>\n",
       "      <td>49791 Rachel Heights Apt. 898\\nEast Drewboroug...</td>\n",
       "      <td>DarkMagenta</td>\n",
       "      <td>33.715981</td>\n",
       "      <td>12.418808</td>\n",
       "      <td>35.771016</td>\n",
       "      <td>2.735160</td>\n",
       "      <td>497.778642</td>\n",
       "    </tr>\n",
       "  </tbody>\n",
       "</table>\n",
       "<p>500 rows × 8 columns</p>\n",
       "</div>"
      ],
      "text/plain": [
       "                             Email  \\\n",
       "0        mstephenson@fernandez.com   \n",
       "1                hduke@hotmail.com   \n",
       "2                 pallen@yahoo.com   \n",
       "3          riverarebecca@gmail.com   \n",
       "4    mstephens@davidson-herman.com   \n",
       "..                             ...   \n",
       "495   lewisjessica@craig-evans.com   \n",
       "496            katrina56@gmail.com   \n",
       "497             dale88@hotmail.com   \n",
       "498            cwilson@hotmail.com   \n",
       "499      hannahwilson@davidson.com   \n",
       "\n",
       "                                               Address            Avatar  \\\n",
       "0         835 Frank Tunnel\\nWrightmouth, MI 82180-9605            Violet   \n",
       "1       4547 Archer Common\\nDiazchester, CA 06566-8576         DarkGreen   \n",
       "2    24645 Valerie Unions Suite 582\\nCobbborough, D...            Bisque   \n",
       "3     1414 David Throughway\\nPort Jason, OH 22070-1220       SaddleBrown   \n",
       "4    14023 Rodriguez Passage\\nPort Jacobville, PR 3...  MediumAquaMarine   \n",
       "..                                                 ...               ...   \n",
       "495  4483 Jones Motorway Suite 872\\nLake Jamiefurt,...               Tan   \n",
       "496  172 Owen Divide Suite 497\\nWest Richard, CA 19320     PaleVioletRed   \n",
       "497  0787 Andrews Ranch Apt. 633\\nSouth Chadburgh, ...          Cornsilk   \n",
       "498  680 Jennifer Lodge Apt. 808\\nBrendachester, TX...              Teal   \n",
       "499  49791 Rachel Heights Apt. 898\\nEast Drewboroug...       DarkMagenta   \n",
       "\n",
       "     Avg. Session Length  Time on App  Time on Website  Length of Membership  \\\n",
       "0              34.497268    12.655651        39.577668              4.082621   \n",
       "1              31.926272    11.109461        37.268959              2.664034   \n",
       "2              33.000915    11.330278        37.110597              4.104543   \n",
       "3              34.305557    13.717514        36.721283              3.120179   \n",
       "4              33.330673    12.795189        37.536653              4.446308   \n",
       "..                   ...          ...              ...                   ...   \n",
       "495            33.237660    13.566160        36.417985              3.746573   \n",
       "496            34.702529    11.695736        37.190268              3.576526   \n",
       "497            32.646777    11.499409        38.332576              4.958264   \n",
       "498            33.322501    12.391423        36.840086              2.336485   \n",
       "499            33.715981    12.418808        35.771016              2.735160   \n",
       "\n",
       "     Yearly Amount Spent  \n",
       "0             587.951054  \n",
       "1             392.204933  \n",
       "2             487.547505  \n",
       "3             581.852344  \n",
       "4             599.406092  \n",
       "..                   ...  \n",
       "495           573.847438  \n",
       "496           529.049004  \n",
       "497           551.620146  \n",
       "498           456.469510  \n",
       "499           497.778642  \n",
       "\n",
       "[500 rows x 8 columns]"
      ]
     },
     "execution_count": 2,
     "metadata": {},
     "output_type": "execute_result"
    }
   ],
   "source": [
    "df = pd.read_csv(\"Ecommerce Customers.csv\")\n",
    "df"
   ]
  },
  {
   "cell_type": "code",
   "execution_count": 3,
   "metadata": {
    "slideshow": {
     "slide_type": "subslide"
    }
   },
   "outputs": [
    {
     "data": {
      "text/plain": [
       "Index(['Email', 'Address', 'Avatar', 'Avg. Session Length', 'Time on App',\n",
       "       'Time on Website', 'Length of Membership', 'Yearly Amount Spent'],\n",
       "      dtype='object')"
      ]
     },
     "execution_count": 3,
     "metadata": {},
     "output_type": "execute_result"
    }
   ],
   "source": [
    "df.columns"
   ]
  },
  {
   "cell_type": "markdown",
   "metadata": {
    "slideshow": {
     "slide_type": "slide"
    }
   },
   "source": [
    "# Data Cleaning"
   ]
  },
  {
   "cell_type": "code",
   "execution_count": 4,
   "metadata": {
    "slideshow": {
     "slide_type": "subslide"
    }
   },
   "outputs": [
    {
     "data": {
      "text/html": [
       "<div>\n",
       "<style scoped>\n",
       "    .dataframe tbody tr th:only-of-type {\n",
       "        vertical-align: middle;\n",
       "    }\n",
       "\n",
       "    .dataframe tbody tr th {\n",
       "        vertical-align: top;\n",
       "    }\n",
       "\n",
       "    .dataframe thead th {\n",
       "        text-align: right;\n",
       "    }\n",
       "</style>\n",
       "<table border=\"1\" class=\"dataframe\">\n",
       "  <thead>\n",
       "    <tr style=\"text-align: right;\">\n",
       "      <th></th>\n",
       "      <th>Avg. Session Length</th>\n",
       "      <th>Time on App</th>\n",
       "      <th>Time on Website</th>\n",
       "      <th>Length of Membership</th>\n",
       "      <th>Yearly Amount Spent</th>\n",
       "    </tr>\n",
       "  </thead>\n",
       "  <tbody>\n",
       "    <tr>\n",
       "      <th>0</th>\n",
       "      <td>34.497268</td>\n",
       "      <td>12.655651</td>\n",
       "      <td>39.577668</td>\n",
       "      <td>4.082621</td>\n",
       "      <td>587.951054</td>\n",
       "    </tr>\n",
       "    <tr>\n",
       "      <th>1</th>\n",
       "      <td>31.926272</td>\n",
       "      <td>11.109461</td>\n",
       "      <td>37.268959</td>\n",
       "      <td>2.664034</td>\n",
       "      <td>392.204933</td>\n",
       "    </tr>\n",
       "    <tr>\n",
       "      <th>2</th>\n",
       "      <td>33.000915</td>\n",
       "      <td>11.330278</td>\n",
       "      <td>37.110597</td>\n",
       "      <td>4.104543</td>\n",
       "      <td>487.547505</td>\n",
       "    </tr>\n",
       "    <tr>\n",
       "      <th>3</th>\n",
       "      <td>34.305557</td>\n",
       "      <td>13.717514</td>\n",
       "      <td>36.721283</td>\n",
       "      <td>3.120179</td>\n",
       "      <td>581.852344</td>\n",
       "    </tr>\n",
       "    <tr>\n",
       "      <th>4</th>\n",
       "      <td>33.330673</td>\n",
       "      <td>12.795189</td>\n",
       "      <td>37.536653</td>\n",
       "      <td>4.446308</td>\n",
       "      <td>599.406092</td>\n",
       "    </tr>\n",
       "    <tr>\n",
       "      <th>...</th>\n",
       "      <td>...</td>\n",
       "      <td>...</td>\n",
       "      <td>...</td>\n",
       "      <td>...</td>\n",
       "      <td>...</td>\n",
       "    </tr>\n",
       "    <tr>\n",
       "      <th>495</th>\n",
       "      <td>33.237660</td>\n",
       "      <td>13.566160</td>\n",
       "      <td>36.417985</td>\n",
       "      <td>3.746573</td>\n",
       "      <td>573.847438</td>\n",
       "    </tr>\n",
       "    <tr>\n",
       "      <th>496</th>\n",
       "      <td>34.702529</td>\n",
       "      <td>11.695736</td>\n",
       "      <td>37.190268</td>\n",
       "      <td>3.576526</td>\n",
       "      <td>529.049004</td>\n",
       "    </tr>\n",
       "    <tr>\n",
       "      <th>497</th>\n",
       "      <td>32.646777</td>\n",
       "      <td>11.499409</td>\n",
       "      <td>38.332576</td>\n",
       "      <td>4.958264</td>\n",
       "      <td>551.620146</td>\n",
       "    </tr>\n",
       "    <tr>\n",
       "      <th>498</th>\n",
       "      <td>33.322501</td>\n",
       "      <td>12.391423</td>\n",
       "      <td>36.840086</td>\n",
       "      <td>2.336485</td>\n",
       "      <td>456.469510</td>\n",
       "    </tr>\n",
       "    <tr>\n",
       "      <th>499</th>\n",
       "      <td>33.715981</td>\n",
       "      <td>12.418808</td>\n",
       "      <td>35.771016</td>\n",
       "      <td>2.735160</td>\n",
       "      <td>497.778642</td>\n",
       "    </tr>\n",
       "  </tbody>\n",
       "</table>\n",
       "<p>500 rows × 5 columns</p>\n",
       "</div>"
      ],
      "text/plain": [
       "     Avg. Session Length  Time on App  Time on Website  Length of Membership  \\\n",
       "0              34.497268    12.655651        39.577668              4.082621   \n",
       "1              31.926272    11.109461        37.268959              2.664034   \n",
       "2              33.000915    11.330278        37.110597              4.104543   \n",
       "3              34.305557    13.717514        36.721283              3.120179   \n",
       "4              33.330673    12.795189        37.536653              4.446308   \n",
       "..                   ...          ...              ...                   ...   \n",
       "495            33.237660    13.566160        36.417985              3.746573   \n",
       "496            34.702529    11.695736        37.190268              3.576526   \n",
       "497            32.646777    11.499409        38.332576              4.958264   \n",
       "498            33.322501    12.391423        36.840086              2.336485   \n",
       "499            33.715981    12.418808        35.771016              2.735160   \n",
       "\n",
       "     Yearly Amount Spent  \n",
       "0             587.951054  \n",
       "1             392.204933  \n",
       "2             487.547505  \n",
       "3             581.852344  \n",
       "4             599.406092  \n",
       "..                   ...  \n",
       "495           573.847438  \n",
       "496           529.049004  \n",
       "497           551.620146  \n",
       "498           456.469510  \n",
       "499           497.778642  \n",
       "\n",
       "[500 rows x 5 columns]"
      ]
     },
     "execution_count": 4,
     "metadata": {},
     "output_type": "execute_result"
    }
   ],
   "source": [
    "# Normalization (dropping the useless columns)\n",
    "df = df.drop(columns=['Email'])\n",
    "df = df.drop(columns=['Avatar'])\n",
    "df = df.drop(columns=['Address'])\n",
    "df"
   ]
  },
  {
   "cell_type": "code",
   "execution_count": 5,
   "metadata": {},
   "outputs": [
    {
     "name": "stdout",
     "output_type": "stream",
     "text": [
      "33.08852937\n"
     ]
    },
    {
     "data": {
      "text/html": [
       "<div>\n",
       "<style scoped>\n",
       "    .dataframe tbody tr th:only-of-type {\n",
       "        vertical-align: middle;\n",
       "    }\n",
       "\n",
       "    .dataframe tbody tr th {\n",
       "        vertical-align: top;\n",
       "    }\n",
       "\n",
       "    .dataframe thead th {\n",
       "        text-align: right;\n",
       "    }\n",
       "</style>\n",
       "<table border=\"1\" class=\"dataframe\">\n",
       "  <thead>\n",
       "    <tr style=\"text-align: right;\">\n",
       "      <th></th>\n",
       "      <th>Avg. Session Length</th>\n",
       "      <th>Time on App</th>\n",
       "      <th>Time on Website</th>\n",
       "      <th>Length of Membership</th>\n",
       "      <th>Yearly Amount Spent</th>\n",
       "    </tr>\n",
       "  </thead>\n",
       "  <tbody>\n",
       "    <tr>\n",
       "      <th>0</th>\n",
       "      <td>34.497268</td>\n",
       "      <td>12.655651</td>\n",
       "      <td>39.577668</td>\n",
       "      <td>4.082621</td>\n",
       "      <td>587.951054</td>\n",
       "    </tr>\n",
       "    <tr>\n",
       "      <th>1</th>\n",
       "      <td>31.926272</td>\n",
       "      <td>11.109461</td>\n",
       "      <td>37.268959</td>\n",
       "      <td>2.664034</td>\n",
       "      <td>392.204933</td>\n",
       "    </tr>\n",
       "    <tr>\n",
       "      <th>2</th>\n",
       "      <td>33.000915</td>\n",
       "      <td>11.330278</td>\n",
       "      <td>37.110597</td>\n",
       "      <td>4.104543</td>\n",
       "      <td>487.547505</td>\n",
       "    </tr>\n",
       "    <tr>\n",
       "      <th>3</th>\n",
       "      <td>34.305557</td>\n",
       "      <td>13.717514</td>\n",
       "      <td>36.721283</td>\n",
       "      <td>3.120179</td>\n",
       "      <td>581.852344</td>\n",
       "    </tr>\n",
       "    <tr>\n",
       "      <th>4</th>\n",
       "      <td>33.330673</td>\n",
       "      <td>12.795189</td>\n",
       "      <td>37.536653</td>\n",
       "      <td>4.446308</td>\n",
       "      <td>599.406092</td>\n",
       "    </tr>\n",
       "    <tr>\n",
       "      <th>...</th>\n",
       "      <td>...</td>\n",
       "      <td>...</td>\n",
       "      <td>...</td>\n",
       "      <td>...</td>\n",
       "      <td>...</td>\n",
       "    </tr>\n",
       "    <tr>\n",
       "      <th>495</th>\n",
       "      <td>33.237660</td>\n",
       "      <td>13.566160</td>\n",
       "      <td>36.417985</td>\n",
       "      <td>3.746573</td>\n",
       "      <td>573.847438</td>\n",
       "    </tr>\n",
       "    <tr>\n",
       "      <th>496</th>\n",
       "      <td>34.702529</td>\n",
       "      <td>11.695736</td>\n",
       "      <td>37.190268</td>\n",
       "      <td>3.576526</td>\n",
       "      <td>529.049004</td>\n",
       "    </tr>\n",
       "    <tr>\n",
       "      <th>497</th>\n",
       "      <td>32.646777</td>\n",
       "      <td>11.499409</td>\n",
       "      <td>38.332576</td>\n",
       "      <td>4.958264</td>\n",
       "      <td>551.620146</td>\n",
       "    </tr>\n",
       "    <tr>\n",
       "      <th>498</th>\n",
       "      <td>33.322501</td>\n",
       "      <td>12.391423</td>\n",
       "      <td>36.840086</td>\n",
       "      <td>2.336485</td>\n",
       "      <td>456.469510</td>\n",
       "    </tr>\n",
       "    <tr>\n",
       "      <th>499</th>\n",
       "      <td>33.715981</td>\n",
       "      <td>12.418808</td>\n",
       "      <td>35.771016</td>\n",
       "      <td>2.735160</td>\n",
       "      <td>497.778642</td>\n",
       "    </tr>\n",
       "  </tbody>\n",
       "</table>\n",
       "<p>500 rows × 5 columns</p>\n",
       "</div>"
      ],
      "text/plain": [
       "     Avg. Session Length  Time on App  Time on Website  Length of Membership  \\\n",
       "0              34.497268    12.655651        39.577668              4.082621   \n",
       "1              31.926272    11.109461        37.268959              2.664034   \n",
       "2              33.000915    11.330278        37.110597              4.104543   \n",
       "3              34.305557    13.717514        36.721283              3.120179   \n",
       "4              33.330673    12.795189        37.536653              4.446308   \n",
       "..                   ...          ...              ...                   ...   \n",
       "495            33.237660    13.566160        36.417985              3.746573   \n",
       "496            34.702529    11.695736        37.190268              3.576526   \n",
       "497            32.646777    11.499409        38.332576              4.958264   \n",
       "498            33.322501    12.391423        36.840086              2.336485   \n",
       "499            33.715981    12.418808        35.771016              2.735160   \n",
       "\n",
       "     Yearly Amount Spent  \n",
       "0             587.951054  \n",
       "1             392.204933  \n",
       "2             487.547505  \n",
       "3             581.852344  \n",
       "4             599.406092  \n",
       "..                   ...  \n",
       "495           573.847438  \n",
       "496           529.049004  \n",
       "497           551.620146  \n",
       "498           456.469510  \n",
       "499           497.778642  \n",
       "\n",
       "[500 rows x 5 columns]"
      ]
     },
     "execution_count": 5,
     "metadata": {},
     "output_type": "execute_result"
    }
   ],
   "source": [
    "# The value of avg session at one or two point is wrong(NaN) so we will replace it with the median\n",
    "\n",
    "AvgSessionmedian = df['Avg. Session Length'].median()\n",
    "print(AvgSessionmedian)\n",
    "\n",
    "df['Avg. Session Length'] = df['Avg. Session Length'].fillna(AvgSessionmedian)\n",
    "df"
   ]
  },
  {
   "cell_type": "code",
   "execution_count": 6,
   "metadata": {},
   "outputs": [],
   "source": [
    "df.to_csv(\"Ecommerce Customers Modified.csv\")"
   ]
  },
  {
   "cell_type": "markdown",
   "metadata": {},
   "source": [
    "# Data Visualization"
   ]
  },
  {
   "cell_type": "code",
   "execution_count": 6,
   "metadata": {},
   "outputs": [
    {
     "data": {
      "image/png": "[encoded data removed]",
      "text/plain": [
       "<Figure size 432x288 with 1 Axes>"
      ]
     },
     "metadata": {
      "needs_background": "light"
     },
     "output_type": "display_data"
    }
   ],
   "source": [
    "# title\n",
    "plt.title(\"Avg session length vs Yearly amount spent\",fontdict={'fontname':'comic sans MS', 'fontsize':20})\n",
    "# plot\n",
    "plt.scatter(df['Avg. Session Length'],df['Yearly Amount Spent'],marker='^',label='variation points',color='cyan')\n",
    "# legends\n",
    "plt.legend()\n",
    "# x and y labels\n",
    "plt.xlabel(\"Minutes spent\",fontdict={'fontname':'comic sans MS', 'fontsize':16})\n",
    "plt.ylabel(\"Dollars\",fontdict={'fontname':'comic sans MS', 'fontsize':16})\n",
    "# saving the plot\n",
    "# plt.savefig(\"YearlyamountspentvsAvgsessionlength.jpg\",dpi=300)\n",
    "# show the graph\n",
    "plt.show()"
   ]
  },
  {
   "cell_type": "code",
   "execution_count": 7,
   "metadata": {},
   "outputs": [
    {
     "data": {
      "image/png": "[encoded data removed]",
      "text/plain": [
       "<Figure size 432x288 with 1 Axes>"
      ]
     },
     "metadata": {
      "needs_background": "light"
     },
     "output_type": "display_data"
    }
   ],
   "source": [
    "# title\n",
    "plt.title(\"Time spent on App vs Yearly amount spent\",fontdict={'fontname':'comic sans MS', 'fontsize':20})\n",
    "# plot\n",
    "plt.scatter(df['Time on App'],df['Yearly Amount Spent'],marker='^',label='variation points',color='red')\n",
    "# legends\n",
    "plt.legend()\n",
    "# x and y labels\n",
    "plt.xlabel(\"Minutes spent on App\")\n",
    "plt.ylabel(\"Dollars\")\n",
    "# saving the graph\n",
    "# plt.savefig('Yearly amount spent vs Time spent on App.jpg',dpi=300)\n",
    "# show the graph\n",
    "plt.show()"
   ]
  },
  {
   "cell_type": "code",
   "execution_count": 8,
   "metadata": {},
   "outputs": [
    {
     "data": {
      "image/png": "[encoded data removed]",
      "text/plain": [
       "<Figure size 432x288 with 1 Axes>"
      ]
     },
     "metadata": {
      "needs_background": "light"
     },
     "output_type": "display_data"
    }
   ],
   "source": [
    "# title\n",
    "plt.title(\"Time spent on Website vs Yearly amount spent\",fontdict={'fontname':'comic sans MS', 'fontsize':20})\n",
    "# plot\n",
    "plt.scatter(df['Time on Website'],df['Yearly Amount Spent'],marker='o',label='variation points',color='blue')\n",
    "# legends\n",
    "plt.legend()\n",
    "# x and y labels\n",
    "plt.xlabel(\"Minutes\")\n",
    "plt.ylabel(\"Dollars\")\n",
    "# saving the figure\n",
    "# plt.savefig('Yearly amount spent vs Time spent on Website.jpg',dpi=300)\n",
    "# show the graph\n",
    "plt.show()"
   ]
  },
  {
   "cell_type": "code",
   "execution_count": 9,
   "metadata": {},
   "outputs": [
    {
     "data": {
      "image/png": "[encoded data removed]",
      "text/plain": [
       "<Figure size 432x288 with 1 Axes>"
      ]
     },
     "metadata": {
      "needs_background": "light"
     },
     "output_type": "display_data"
    }
   ],
   "source": [
    "# title\n",
    "plt.title(\"Length of membership vs Yearly amount spent\",fontdict={'fontname':'comic sans MS', 'fontsize':20})\n",
    "# plot\n",
    "plt.scatter(df['Yearly Amount Spent'],df['Length of Membership'],color='orange',marker='*',label='points')\n",
    "# x and y labels\n",
    "plt.xlabel(\"Years\",fontdict={'fontname':'comic sans MS', 'fontsize':16})\n",
    "plt.ylabel(\"Dollars\",fontdict={'fontname':'comic sans MS', 'fontsize':16})\n",
    "# show the legends\n",
    "plt.legend()\n",
    "# save the graph\n",
    "# plt.savefig('Yearly amount spent vs length of membership.jpg',dpi=300)\n",
    "# show the graph\n",
    "plt.show()"
   ]
  },
  {
   "cell_type": "code",
   "execution_count": 10,
   "metadata": {},
   "outputs": [
    {
     "data": {
      "image/png": "[encoded data removed]",
      "text/plain": [
       "<Figure size 432x288 with 1 Axes>"
      ]
     },
     "metadata": {
      "needs_background": "light"
     },
     "output_type": "display_data"
    }
   ],
   "source": [
    "# histogram \n",
    "\n",
    "bins = [2,6,8,10,12,14,16,18,20]\n",
    "\n",
    "plt.title(\"Histogram for Time spent on app values\")\n",
    "\n",
    "plt.hist(df['Time on App'],bins=bins,color='grey')\n",
    "\n",
    "plt.xlabel(\"Values\")\n",
    "plt.ylabel(\"Frequency\")\n",
    "\n",
    "plt.show()"
   ]
  },
  {
   "cell_type": "code",
   "execution_count": 11,
   "metadata": {},
   "outputs": [
    {
     "data": {
      "image/png": "[encoded data removed]",
      "text/plain": [
       "<Figure size 432x288 with 1 Axes>"
      ]
     },
     "metadata": {
      "needs_background": "light"
     },
     "output_type": "display_data"
    }
   ],
   "source": [
    "# histogram \n",
    "\n",
    "bins = [10,15,20,25,30,35,40,45,50]\n",
    "\n",
    "plt.title(\"Histogram for Time spent on website values\")\n",
    "\n",
    "plt.hist(df['Time on Website'],bins=bins,color='orange')\n",
    "\n",
    "plt.xlabel(\"Values\")\n",
    "plt.ylabel(\"Frequency\")\n",
    "\n",
    "plt.show()"
   ]
  },
  {
   "cell_type": "markdown",
   "metadata": {},
   "source": [
    "# Regression Model, Possion Regression Model and Decision Tree Regressor"
   ]
  },
  {
   "cell_type": "code",
   "execution_count": 12,
   "metadata": {},
   "outputs": [],
   "source": [
    "x = df.drop(['Yearly Amount Spent'],axis=1).values \n",
    "# print(x)\n",
    "y = df['Yearly Amount Spent'].values\n",
    "# print(y)"
   ]
  },
  {
   "cell_type": "code",
   "execution_count": 13,
   "metadata": {},
   "outputs": [],
   "source": [
    "# splitting the datset\n",
    "from sklearn.model_selection  import train_test_split\n",
    "x_train,x_test,y_train,y_test = train_test_split(x,y,test_size=0.30,random_state=0)"
   ]
  },
  {
   "cell_type": "code",
   "execution_count": 14,
   "metadata": {},
   "outputs": [],
   "source": [
    "# Naive Method\n",
    "regression = linear_model.LinearRegression()\n",
    "regression.fit(df[['Avg. Session Length','Time on App','Time on Website','Length of Membership']].values,df['Yearly Amount Spent'].values)\n",
    "\n",
    "# using possions regressors as well\n",
    "\n",
    "pr = PoissonRegressor()\n",
    "\n",
    "# using decision tree as well\n",
    "\n",
    "dt = DecisionTreeRegressor()"
   ]
  },
  {
   "cell_type": "code",
   "execution_count": 15,
   "metadata": {},
   "outputs": [
    {
     "name": "stdout",
     "output_type": "stream",
     "text": [
      "Done\n"
     ]
    }
   ],
   "source": [
    "# Fitting the models\n",
    "\n",
    "regression.fit(x_train, y_train)\n",
    "\n",
    "pr.fit(x_train, y_train)\n",
    "\n",
    "dt.fit(x_train, y_train)\n",
    "\n",
    "print(\"Done\")"
   ]
  },
  {
   "cell_type": "code",
   "execution_count": 16,
   "metadata": {},
   "outputs": [
    {
     "name": "stdout",
     "output_type": "stream",
     "text": [
      "[437.35084967 489.54254025 369.92050123 514.94374094 496.83478829\n",
      " 451.2498724  457.10921729 335.96003664 527.7541065  664.19795597\n",
      " 559.92305086 525.96128031 551.63542934 455.52086471 449.31678045\n",
      " 430.93459341 562.87186121 408.52770729 599.07185633 486.66819923\n",
      " 715.83669445 496.78607714 411.05125697 555.68639295 550.40352383\n",
      " 398.66087209 419.71092012 395.68027341 547.99022599 463.64795192\n",
      " 557.9797607  504.97765326 505.65229945 463.75027462 426.47018436\n",
      " 400.03325211 503.11754065 429.74172161 570.39045612 421.12541101\n",
      " 488.09962519 601.61079404 615.87962998 589.80531146 449.48165627\n",
      " 379.69988023 557.60102656 461.77875524 502.32271141 400.83750988\n",
      " 523.89235135 416.41975091 576.63369805 477.3212855  456.2440918\n",
      " 398.46292423 564.98435069 303.93235879 562.09794103 477.21361004\n",
      " 499.11120378 434.6100408  464.30088385 577.46392887 502.70412559\n",
      " 355.60504089 507.55635443 415.92203314 635.51778832 454.81479255\n",
      " 453.02150092 766.52470587 518.21263648 456.86895354 378.68793945\n",
      " 376.07478613 599.00822157 515.6108274  513.11900461 429.86579038\n",
      " 491.21480189 492.0560713  533.11449162 496.06016467 442.27907986\n",
      " 506.96130214 559.35642416 755.96688355 397.13095237 515.3935397\n",
      " 517.79116063 522.29682606 382.17355485 484.9142549  504.41272332\n",
      " 383.64201367 522.23316651 500.59542424 606.33115188 409.60171443\n",
      " 389.37562691 476.98493745 611.21651082 498.73076996 517.84491736\n",
      " 467.21374509 425.2193625  506.92850367 286.75764468 501.01539505\n",
      " 573.75856215 558.70763637 443.29362885 558.46976675 398.2440327\n",
      " 509.45811647 474.54575824 443.99332043 500.81953724 513.1667912\n",
      " 547.83387623 417.27916774 394.0785562  589.33513569 498.54302428\n",
      " 546.07221048 544.86584263 424.62035318 492.76055274 601.98359575\n",
      " 508.48748827 450.85427973 505.15434711 494.91991491 456.35410923\n",
      " 501.23306686 543.07078998 531.81635269 479.45514556 424.42992726\n",
      " 423.82371219 371.97256833 562.50684122 609.32069885 598.46939574\n",
      " 591.76475297 572.61600299 523.69950269 394.69399499 641.22724626]\n"
     ]
    }
   ],
   "source": [
    "# Degression model predictions \n",
    "\n",
    "pred = regression.predict(x_test)\n",
    "print(pred)"
   ]
  },
  {
   "cell_type": "code",
   "execution_count": 17,
   "metadata": {},
   "outputs": [
    {
     "name": "stdout",
     "output_type": "stream",
     "text": [
      "[435.46086386 483.63120016 380.19389963 509.47142033 491.07055542\n",
      " 448.53367679 452.7105331  355.46566574 521.7764866  687.66765681\n",
      " 557.10751937 520.49491095 546.51758395 450.71912992 446.00264294\n",
      " 429.41336391 559.59810533 410.98993808 600.96644023 480.91171816\n",
      " 760.10048411 490.74086896 413.1003691  552.0771168  545.82181281\n",
      " 403.75204807 419.68822865 400.81199314 543.6574229  459.77181237\n",
      " 554.82636084 499.22791495 499.68638678 459.39785085 427.3318661\n",
      " 403.87052187 496.12704775 428.51355209 568.77317968 421.71985635\n",
      " 482.54794373 604.52405698 623.18598255 591.82492955 446.03624212\n",
      " 388.38791148 553.05880059 456.54684625 496.79164411 404.9644696\n",
      " 517.30885371 417.70901227 576.41618786 471.50460873 451.73210198\n",
      " 404.40341797 563.5027381  333.04243119 558.84245413 472.26556038\n",
      " 493.73890112 433.64853915 459.23716559 576.80398873 496.17349891\n",
      " 369.46649348 500.44130267 417.11595807 648.00212296 451.39485539\n",
      " 450.00209447 841.41472122 512.04278293 452.65230382 386.86476596\n",
      " 385.28374819 602.35770367 509.33022165 506.546835   429.61317679\n",
      " 485.72264792 486.09432494 527.84132751 491.10199575 441.07188307\n",
      " 501.24693429 557.01280094 825.2229381  402.29587959 508.53211626\n",
      " 511.53993598 515.76845691 389.16249439 477.77788172 498.19545452\n",
      " 391.46142175 516.07034847 494.41388403 611.09349352 412.19490649\n",
      " 396.1127336  471.95663579 616.86879599 491.71670329 512.75865462\n",
      " 462.08283247 425.17787053 500.79132459 322.4260897  494.64156084\n",
      " 571.51919582 555.90756921 440.14366071 554.46346907 403.44042739\n",
      " 504.18097757 468.66441362 442.20216371 495.24464281 507.97623091\n",
      " 543.87967406 418.90937146 398.89095729 591.59996055 493.34016951\n",
      " 542.83950154 540.17628388 424.3431675  486.5724951  606.02052242\n",
      " 502.11947166 447.34672886 499.32472806 488.50639351 452.27233809\n",
      " 494.45876946 537.94901725 526.12691689 473.99331554 424.77766206\n",
      " 423.72458974 381.74099392 558.99738425 614.76724469 600.58613567\n",
      " 593.59897703 570.59364116 518.05708063 399.83872062 655.61952347]\n"
     ]
    }
   ],
   "source": [
    "# Possion model predictions \n",
    "\n",
    "predictPossion = pr.predict(x_test)\n",
    "\n",
    "print(predictPossion)"
   ]
  },
  {
   "cell_type": "code",
   "execution_count": 18,
   "metadata": {},
   "outputs": [
    {
     "name": "stdout",
     "output_type": "stream",
     "text": [
      "[444.582165  468.9135013 347.7769266 512.1658664 528.9336186 482.8309859\n",
      " 424.1854943 350.0582002 467.8009244 627.6033187 542.7115581 529.2300901\n",
      " 538.9419745 432.4720613 458.3769107 448.2298292 548.5185293 407.542168\n",
      " 554.0030934 496.6507081 660.4251843 528.309225  387.5347163 571.3074949\n",
      " 554.0030934 401.0331352 439.0747667 375.3984554 565.9943634 430.5888826\n",
      " 571.2160048 507.3900618 552.9403455 459.2851235 473.3604956 397.4205841\n",
      " 529.0490041 451.6286105 576.4776072 376.3369008 532.1274491 571.3074949\n",
      " 610.1280331 593.1564015 404.8245289 408.6201878 529.0566632 444.5761441\n",
      " 507.3900618 387.5347163 469.3831462 422.3687366 570.6300981 479.2310929\n",
      " 451.6286105 478.1703341 545.9454921 266.0863409 584.105885  448.9332932\n",
      " 473.3604956 461.1122484 497.7786422 549.1315733 510.6617922 347.7769266\n",
      " 420.9161595 458.3769107 604.8413188 440.0027475 461.1122484 689.2356998\n",
      " 461.9208769 479.2310929 407.8763782 442.6672517 608.2718166 514.0098178\n",
      " 479.6148117 423.4705332 492.9450531 519.3409891 557.634109  479.7319376\n",
      " 547.1109824 511.0387861 561.8746577 684.163431  413.2959992 482.3535703\n",
      " 522.3374046 506.5363931 357.8579836 458.3769107 505.7711403 408.6201878\n",
      " 530.3624689 505.7711403 612.3852299 422.3687366 422.3687366 482.1449969\n",
      " 612.3852299 420.9161595 528.9336186 442.6672517 408.6201878 488.270298\n",
      " 350.0582002 491.0732237 581.852344  534.7057438 413.3717831 542.4124767\n",
      " 401.0331352 494.6386098 420.9161595 448.9332932 507.3900618 479.7319376\n",
      " 557.634109  424.7287739 402.1671222 591.7810894 479.7319376 536.7718994\n",
      " 529.1945189 387.5347163 502.1327892 608.2718166 506.3758668 426.775216\n",
      " 511.0387861 474.5323294 462.8976362 461.7909591 532.1274491 541.9722038\n",
      " 475.0154071 438.3037078 444.9665517 378.4735664 549.0082269 576.4776072\n",
      " 584.105885  559.199048  549.0082269 532.9352188 407.7045475 642.1015787]\n"
     ]
    }
   ],
   "source": [
    "# decision tree regression model predictions \n",
    "\n",
    "dtPred = dt.predict(x_test)\n",
    "\n",
    "print(dtPred)"
   ]
  },
  {
   "cell_type": "markdown",
   "metadata": {},
   "source": [
    "### Sample predictions"
   ]
  },
  {
   "cell_type": "code",
   "execution_count": 19,
   "metadata": {},
   "outputs": [
    {
     "data": {
      "text/plain": [
       "array([593.79419875])"
      ]
     },
     "execution_count": 19,
     "metadata": {},
     "output_type": "execute_result"
    }
   ],
   "source": [
    "\n",
    "ExtraDf = pd.DataFrame({'Avg. Session Length':[34.5],'Time on App':[12.66],'Time on Website':[39.58],'Length of Membership':[4.08]})\n",
    "\n",
    "regression.predict(ExtraDf.values)"
   ]
  },
  {
   "cell_type": "code",
   "execution_count": 20,
   "metadata": {},
   "outputs": [
    {
     "data": {
      "text/plain": [
       "array([595.47802388])"
      ]
     },
     "execution_count": 20,
     "metadata": {},
     "output_type": "execute_result"
    }
   ],
   "source": [
    "pr.predict(ExtraDf.values)"
   ]
  },
  {
   "cell_type": "code",
   "execution_count": 21,
   "metadata": {},
   "outputs": [
    {
     "data": {
      "text/plain": [
       "array([587.951054])"
      ]
     },
     "execution_count": 21,
     "metadata": {},
     "output_type": "execute_result"
    }
   ],
   "source": [
    "dt.predict(ExtraDf.values)"
   ]
  },
  {
   "cell_type": "markdown",
   "metadata": {},
   "source": [
    "### let's see accuracy of our model"
   ]
  },
  {
   "cell_type": "code",
   "execution_count": 22,
   "metadata": {},
   "outputs": [
    {
     "data": {
      "text/plain": [
       "0.9848033950940315"
      ]
     },
     "execution_count": 22,
     "metadata": {},
     "output_type": "execute_result"
    }
   ],
   "source": [
    "from sklearn.metrics import r2_score\n",
    "r2_score(y_test,pred)"
   ]
  },
  {
   "cell_type": "code",
   "execution_count": 23,
   "metadata": {},
   "outputs": [
    {
     "data": {
      "text/plain": [
       "0.9623285244877761"
      ]
     },
     "execution_count": 23,
     "metadata": {},
     "output_type": "execute_result"
    }
   ],
   "source": [
    "r2_score(y_test,predictPossion)"
   ]
  },
  {
   "cell_type": "code",
   "execution_count": 24,
   "metadata": {},
   "outputs": [
    {
     "data": {
      "text/plain": [
       "0.8640762516170346"
      ]
     },
     "execution_count": 24,
     "metadata": {},
     "output_type": "execute_result"
    }
   ],
   "source": [
    "r2_score(y_test,dtPred)"
   ]
  },
  {
   "cell_type": "markdown",
   "metadata": {},
   "source": [
    "### plotting the results"
   ]
  },
  {
   "cell_type": "code",
   "execution_count": 25,
   "metadata": {},
   "outputs": [
    {
     "data": {
      "image/png": "[encoded data removed]",
      "text/plain": [
       "<Figure size 432x288 with 1 Axes>"
      ]
     },
     "metadata": {
      "needs_background": "light"
     },
     "output_type": "display_data"
    }
   ],
   "source": [
    "# figure size\n",
    "# plt.figure(figsize={5,8})\n",
    "# title \n",
    "plt.title(\"Results for regression model\", fontdict={'fontname': 'comic sans MS', 'fontsize': 20})\n",
    "# plot graph\n",
    "plt.scatter(y_test,pred,color='green',label=\"Points\",marker='o')\n",
    "# x and y\n",
    "plt.xlabel(\"Actual\",fontdict={'fontname': 'comic sans MS', 'fontsize': 14})\n",
    "plt.ylabel(\"Predicted\",fontdict={'fontname': 'comic sans MS', 'fontsize': 14})\n",
    "# legends\n",
    "plt.legend(loc='upper left');\n",
    "# saving the plot\n",
    "plt.savefig(\"Results.png\",dpi=300)\n",
    "# show graph\n",
    "plt.show()"
   ]
  },
  {
   "cell_type": "code",
   "execution_count": 26,
   "metadata": {},
   "outputs": [
    {
     "data": {
      "image/png": "[encoded data removed]",
      "text/plain": [
       "<Figure size 432x288 with 1 Axes>"
      ]
     },
     "metadata": {
      "needs_background": "light"
     },
     "output_type": "display_data"
    }
   ],
   "source": [
    "# figure size\n",
    "# plt.figure(figsize={5,8})\n",
    "# title \n",
    "plt.title(\"Results for possion model\", fontdict={'fontname': 'comic sans MS', 'fontsize': 20})\n",
    "# plot graph\n",
    "plt.scatter(y_test,predictPossion,color='pink',label=\"Points\",marker='^')\n",
    "# x and y\n",
    "plt.xlabel(\"Actual\",fontdict={'fontname': 'comic sans MS', 'fontsize': 14})\n",
    "plt.ylabel(\"Predicted\",fontdict={'fontname': 'comic sans MS', 'fontsize': 14})\n",
    "# legends\n",
    "plt.legend(loc='upper left');\n",
    "# saving the plot\n",
    "plt.savefig(\"ResultsPossion.png\",dpi=300)\n",
    "# show graph\n",
    "plt.show()"
   ]
  },
  {
   "cell_type": "code",
   "execution_count": 29,
   "metadata": {},
   "outputs": [
    {
     "data": {
      "image/png": "[encoded data removed]",
      "text/plain": [
       "<Figure size 432x288 with 1 Axes>"
      ]
     },
     "metadata": {
      "needs_background": "light"
     },
     "output_type": "display_data"
    }
   ],
   "source": [
    "# figure size\n",
    "# plt.figure(figsize={5,8})\n",
    "# title \n",
    "plt.title(\"Results for decision tree regressor model\", fontdict={'fontname': 'comic sans MS', 'fontsize': 20})\n",
    "# plot graph\n",
    "plt.scatter(y_test,dtPred,color='blue',label=\"Points\",marker='x')\n",
    "# x and y\n",
    "plt.xlabel(\"Actual\",fontdict={'fontname': 'comic sans MS', 'fontsize': 14})\n",
    "plt.ylabel(\"Predicted\",fontdict={'fontname': 'comic sans MS', 'fontsize': 14})\n",
    "# legends\n",
    "plt.legend(loc='upper left');\n",
    "# saving the plot\n",
    "plt.savefig(\"ResultsPossion.png\",dpi=300)\n",
    "# show graph\n",
    "plt.show()"
   ]
  },
  {
   "cell_type": "code",
   "execution_count": 27,
   "metadata": {},
   "outputs": [],
   "source": [
    "from sklearn.tree import export_graphviz \n",
    "\n",
    "# export the decision tree to a tree.dot file\n",
    "# for visualizing the plot easily anywhere\n",
    "export_graphviz(dt, out_file ='tree.dot',\n",
    "                feature_names =['Session Length','Time on App','Time on Website','Length of Membership']) "
   ]
  },
  {
   "cell_type": "markdown",
   "metadata": {},
   "source": [
    "### line graph for linear regression, possion regression and decisionTree regression"
   ]
  },
  {
   "cell_type": "code",
   "execution_count": 34,
   "metadata": {},
   "outputs": [
    {
     "data": {
      "image/png": "[encoded data removed]",
      "text/plain": [
       "<Figure size 432x288 with 1 Axes>"
      ]
     },
     "metadata": {
      "needs_background": "light"
     },
     "output_type": "display_data"
    }
   ],
   "source": [
    "plt.title(\"Prediction Comparsion wrt (TOA)\")\n",
    "\n",
    "plt.plot(df['Time on App'][:5],pred[:5],label=\"Linear Regression\",linestyle='-',marker='o',markersize=5,color='black')\n",
    "\n",
    "plt.plot(df['Time on App'][:5],predictPossion[:5],label=\"Possion Regression\",linestyle='-',marker='x',markersize=5,color='blue')\n",
    "\n",
    "plt.plot(df['Time on App'][:5],dtPred[:5],label=\"Decision tree Regressor\",linestyle='-',marker='*',markersize=5,color='red')\n",
    "\n",
    "# original line\n",
    "plt.plot(df['Time on App'][:5],y_test[:5],label=\"Orginal value\",linestyle='-',marker='*',markersize=5,color='indigo')\n",
    "\n",
    "plt.ylabel(\"Yearly Amount\")\n",
    "plt.xlabel(\"Mins spent on App\")\n",
    "\n",
    "plt.legend()\n",
    "\n",
    "plt.show()"
   ]
  },
  {
   "cell_type": "code",
   "execution_count": 33,
   "metadata": {},
   "outputs": [
    {
     "data": {
      "image/png": "[encoded data removed]",
      "text/plain": [
       "<Figure size 432x288 with 1 Axes>"
      ]
     },
     "metadata": {
      "needs_background": "light"
     },
     "output_type": "display_data"
    }
   ],
   "source": [
    "plt.title(\"Prediction Comparsion wrt (TOW)\")\n",
    "\n",
    "plt.plot(df['Time on Website'][:5],pred[:5],label=\"Linear Regression\",linestyle='-',marker='o',markersize=5,color='black')\n",
    "\n",
    "plt.plot(df['Time on Website'][:5],predictPossion[:5],label=\"Possion Regression\",linestyle='-',marker='o',markersize=5,color='orange')\n",
    "\n",
    "plt.plot(df['Time on Website'][:5],dtPred[:5],label=\"Decision tree Regressor\",linestyle='-',marker='o',markersize=5,color='green')\n",
    "\n",
    "plt.plot(df['Time on Website'][:5],y_test[:5],label=\"Orginal value\",linestyle='-',marker='*',markersize=5,color='cyan')\n",
    "\n",
    "plt.ylabel(\"Yearly Amount\")\n",
    "plt.xlabel(\"Mins spent on Website\")\n",
    "\n",
    "plt.legend()\n",
    "\n",
    "plt.show()"
   ]
  },
  {
   "cell_type": "markdown",
   "metadata": {},
   "source": [
    "## Creating a results csv\n"
   ]
  },
  {
   "cell_type": "code",
   "execution_count": 101,
   "metadata": {},
   "outputs": [],
   "source": [
    "results = pd.DataFrame({'Actual Values': y_test,'Predicted Values (regression)':pred,'Predicted Values (Possion)':predictPossion,'Predict Values (Decision tree)': dtPred,'Difference (regession)': y_test-pred,'Difference (possion)':y_test - predictPossion,'Difference (decision tree)':y_test - dtPred})\n",
    "results.head(10)\n",
    "results.to_csv('Results.csv') "
   ]
  },
  {
   "cell_type": "markdown",
   "metadata": {},
   "source": [
    "# Maths behind regression model"
   ]
  },
  {
   "cell_type": "code",
   "execution_count": 102,
   "metadata": {},
   "outputs": [
    {
     "name": "stdout",
     "output_type": "stream",
     "text": [
      "m : [ 2.57126547e+01  3.85810335e+01 -1.18000907e-02  6.22351203e+01]\n",
      "c : -1035.1805144538644\n",
      "593.7941987546656\n"
     ]
    }
   ],
   "source": [
    "m = regression.coef_\n",
    "c = regression.intercept_\n",
    "\n",
    "print('m :',m)\n",
    "print('c :',c)\n",
    "\n",
    "m1 = m[0]\n",
    "m2 = m[1]\n",
    "m3 = m[2]\n",
    "m4 = m[3]\n",
    "\n",
    "y = m1*(34.5) + m2*(12.66) + m3*(39.58)+ m4*(4.08) + c\n",
    "print(y)\n"
   ]
  },
  {
   "cell_type": "code",
   "execution_count": 35,
   "metadata": {},
   "outputs": [
    {
     "name": "stdout",
     "output_type": "stream",
     "text": [
      "X :  [5.07311129e-02 7.68767531e-02 6.61509055e-05 1.25312690e-01]\n",
      "Lambda : 3.1519873667471874\n"
     ]
    }
   ],
   "source": [
    "# for possion regression\n",
    "\n",
    "x = pr.coef_\n",
    "xlambda = pr.intercept_\n",
    "\n",
    "print(\"X : \",x)\n",
    "print(\"Lambda :\", xlambda)"
   ]
  },
  {
   "cell_type": "markdown",
   "metadata": {},
   "source": [
    "# Where should the company put their attention Website or App? (Manual Proof) (Linear Regression)"
   ]
  },
  {
   "cell_type": "code",
   "execution_count": 36,
   "metadata": {},
   "outputs": [
    {
     "name": "stdout",
     "output_type": "stream",
     "text": [
      "593.7941987546656\n",
      "670.9562658162529\n",
      "748.1183328778404\n",
      "[593.7941987546656, 670.9562658162529, 748.1183328778404]\n"
     ]
    }
   ],
   "source": [
    "# we will keep everything constant and will be changing only time on app value\n",
    "\n",
    "ExtraDf = pd.DataFrame({'Avg. Session Length':[34.5],'Time on App':[12.66],'Time on Website':[39.58],'Length of Membership':[4.08]})\n",
    "\n",
    "val1 = regression.predict(ExtraDf.values)[0]\n",
    "print(val1)\n",
    "\n",
    "# second phase\n",
    "\n",
    "ExtraDf = pd.DataFrame({'Avg. Session Length':[34.5],'Time on App':[14.66],'Time on Website':[39.58],'Length of Membership':[4.08]})\n",
    "\n",
    "val2 = regression.predict(ExtraDf.values)[0]\n",
    "print(val2)\n",
    "\n",
    "# third \n",
    "\n",
    "ExtraDf = pd.DataFrame({'Avg. Session Length':[34.5],'Time on App':[16.66],'Time on Website':[39.58],'Length of Membership':[4.08]})\n",
    "\n",
    "val3 = regression.predict(ExtraDf.values)[0]\n",
    "print(val3)\n",
    "\n",
    "listIncInyearlyAmtSpent1 = [val1,val2,val3]\n",
    "print(listIncInyearlyAmtSpent1)"
   ]
  },
  {
   "cell_type": "code",
   "execution_count": 39,
   "metadata": {},
   "outputs": [
    {
     "name": "stdout",
     "output_type": "stream",
     "text": [
      "593.7941987546656\n",
      "645.2195080632039\n",
      "696.6448173717422\n",
      "[593.7941987546656, 645.2195080632039, 696.6448173717422]\n"
     ]
    }
   ],
   "source": [
    "# we will keep everything constant and we be changing only time on website\n",
    "\n",
    "ExtraDf = pd.DataFrame({'Avg. Session Length':[34.5],'Time on App':[12.66],'Time on Website':[39.58],'Length of Membership':[4.08]})\n",
    "\n",
    "val1 = regression.predict(ExtraDf.values)[0]\n",
    "print(val1)\n",
    "\n",
    "# second phase\n",
    "\n",
    "ExtraDf = pd.DataFrame({'Avg. Session Length':[36.5],'Time on App':[12.66],'Time on Website':[39.58],'Length of Membership':[4.08]})\n",
    "\n",
    "val2 = regression.predict(ExtraDf.values)[0]\n",
    "print(val2)\n",
    "\n",
    "# third \n",
    "\n",
    "ExtraDf = pd.DataFrame({'Avg. Session Length':[38.5],'Time on App':[12.66],'Time on Website':[39.58],'Length of Membership':[4.08]})\n",
    "\n",
    "val3 = regression.predict(ExtraDf.values)[0]\n",
    "print(val3)\n",
    "\n",
    "listIncInyearlyAmtSpent2 = [val1,val2,val3]\n",
    "print(listIncInyearlyAmtSpent2)"
   ]
  },
  {
   "cell_type": "code",
   "execution_count": 40,
   "metadata": {},
   "outputs": [
    {
     "data": {
      "text/plain": [
       "array([ 0.        , 25.73675775, 51.47351551])"
      ]
     },
     "execution_count": 40,
     "metadata": {},
     "output_type": "execute_result"
    }
   ],
   "source": [
    "newList = []\n",
    "\n",
    "newList = np.array(listIncInyearlyAmtSpent1) - np.array(listIncInyearlyAmtSpent2)\n",
    "\n",
    "newList"
   ]
  },
  {
   "cell_type": "markdown",
   "metadata": {},
   "source": [
    "# As we can see the difference between the values the company should clearly focus on app "
   ]
  }
 ],
 "metadata": {
  "celltoolbar": "Slideshow",
  "kernelspec": {
   "display_name": "Python 3 (ipykernel)",
   "language": "python",
   "name": "python3"
  },
  "language_info": {
   "codemirror_mode": {
    "name": "ipython",
    "version": 3
   },
   "file_extension": ".py",
   "mimetype": "text/x-python",
   "name": "python",
   "nbconvert_exporter": "python",
   "pygments_lexer": "ipython3",
   "version": "3.11.0"
  },
  "vscode": {
   "interpreter": {
    "hash": "c081257499a92776a7ff5343ee4d85420a7950a6ae97b0cb2aee7a7ddd41b7f2"
   }
  }
 },
 "nbformat": 4,
 "nbformat_minor": 2
}
